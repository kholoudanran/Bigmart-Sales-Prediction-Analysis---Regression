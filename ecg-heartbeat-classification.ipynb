{
 "cells": [
  {
   "cell_type": "code",
   "execution_count": 1,
   "id": "230cea9a",
   "metadata": {
    "_cell_guid": "b1076dfc-b9ad-4769-8c92-a6c4dae69d19",
    "_uuid": "8f2839f25d086af736a60e9eeb907d3b93b6e0e5",
    "execution": {
     "iopub.execute_input": "2025-03-23T03:17:30.659051Z",
     "iopub.status.busy": "2025-03-23T03:17:30.658767Z",
     "iopub.status.idle": "2025-03-23T03:17:44.520761Z",
     "shell.execute_reply": "2025-03-23T03:17:44.519836Z"
    },
    "papermill": {
     "duration": 13.869095,
     "end_time": "2025-03-23T03:17:44.522386",
     "exception": false,
     "start_time": "2025-03-23T03:17:30.653291",
     "status": "completed"
    },
    "tags": []
   },
   "outputs": [],
   "source": [
    "import numpy as np\n",
    "import pandas as pd\n",
    "import matplotlib.pyplot as plt\n",
    "import seaborn as sns\n",
    "%matplotlib inline\n",
    "from sklearn.model_selection import train_test_split\n",
    "from sklearn.metrics import classification_report, confusion_matrix\n",
    "from imblearn.over_sampling import SMOTE\n",
    "from sklearn.metrics import classification_report\n",
    "from keras.models import Sequential\n",
    "from keras.layers import *\n",
    "from keras.optimizers import Adam\n",
    "from tensorflow.keras.callbacks import EarlyStopping"
   ]
  },
  {
   "cell_type": "code",
   "execution_count": 2,
   "id": "aa8d1999",
   "metadata": {
    "execution": {
     "iopub.execute_input": "2025-03-23T03:17:44.531816Z",
     "iopub.status.busy": "2025-03-23T03:17:44.531323Z",
     "iopub.status.idle": "2025-03-23T03:17:55.350346Z",
     "shell.execute_reply": "2025-03-23T03:17:55.349681Z"
    },
    "papermill": {
     "duration": 10.825225,
     "end_time": "2025-03-23T03:17:55.351944",
     "exception": false,
     "start_time": "2025-03-23T03:17:44.526719",
     "status": "completed"
    },
    "tags": []
   },
   "outputs": [],
   "source": [
    "dataset = pd.read_csv(\"/kaggle/input/heartbeat/mitbih_train.csv\",header=None)\n",
    "test = pd.read_csv(\"/kaggle/input/heartbeat/mitbih_test.csv\",header=None)"
   ]
  },
  {
   "cell_type": "code",
   "execution_count": 3,
   "id": "a9f1e3c6",
   "metadata": {
    "execution": {
     "iopub.execute_input": "2025-03-23T03:17:55.360671Z",
     "iopub.status.busy": "2025-03-23T03:17:55.360359Z",
     "iopub.status.idle": "2025-03-23T03:17:55.364623Z",
     "shell.execute_reply": "2025-03-23T03:17:55.363724Z"
    },
    "papermill": {
     "duration": 0.009866,
     "end_time": "2025-03-23T03:17:55.365882",
     "exception": false,
     "start_time": "2025-03-23T03:17:55.356016",
     "status": "completed"
    },
    "tags": []
   },
   "outputs": [
    {
     "name": "stdout",
     "output_type": "stream",
     "text": [
      "(87554, 188)\n",
      "(21892, 188)\n"
     ]
    }
   ],
   "source": [
    "print(dataset.shape)\n",
    "print(test.shape)"
   ]
  },
  {
   "cell_type": "code",
   "execution_count": 4,
   "id": "fb3baccf",
   "metadata": {
    "execution": {
     "iopub.execute_input": "2025-03-23T03:17:55.374237Z",
     "iopub.status.busy": "2025-03-23T03:17:55.374026Z",
     "iopub.status.idle": "2025-03-23T03:17:55.404810Z",
     "shell.execute_reply": "2025-03-23T03:17:55.404092Z"
    },
    "papermill": {
     "duration": 0.036164,
     "end_time": "2025-03-23T03:17:55.405934",
     "exception": false,
     "start_time": "2025-03-23T03:17:55.369770",
     "status": "completed"
    },
    "tags": []
   },
   "outputs": [
    {
     "data": {
      "text/html": [
       "<div>\n",
       "<style scoped>\n",
       "    .dataframe tbody tr th:only-of-type {\n",
       "        vertical-align: middle;\n",
       "    }\n",
       "\n",
       "    .dataframe tbody tr th {\n",
       "        vertical-align: top;\n",
       "    }\n",
       "\n",
       "    .dataframe thead th {\n",
       "        text-align: right;\n",
       "    }\n",
       "</style>\n",
       "<table border=\"1\" class=\"dataframe\">\n",
       "  <thead>\n",
       "    <tr style=\"text-align: right;\">\n",
       "      <th></th>\n",
       "      <th>0</th>\n",
       "      <th>1</th>\n",
       "      <th>2</th>\n",
       "      <th>3</th>\n",
       "      <th>4</th>\n",
       "      <th>5</th>\n",
       "      <th>6</th>\n",
       "      <th>7</th>\n",
       "      <th>8</th>\n",
       "      <th>9</th>\n",
       "      <th>...</th>\n",
       "      <th>178</th>\n",
       "      <th>179</th>\n",
       "      <th>180</th>\n",
       "      <th>181</th>\n",
       "      <th>182</th>\n",
       "      <th>183</th>\n",
       "      <th>184</th>\n",
       "      <th>185</th>\n",
       "      <th>186</th>\n",
       "      <th>187</th>\n",
       "    </tr>\n",
       "  </thead>\n",
       "  <tbody>\n",
       "    <tr>\n",
       "      <th>0</th>\n",
       "      <td>0.977941</td>\n",
       "      <td>0.926471</td>\n",
       "      <td>0.681373</td>\n",
       "      <td>0.245098</td>\n",
       "      <td>0.154412</td>\n",
       "      <td>0.191176</td>\n",
       "      <td>0.151961</td>\n",
       "      <td>0.085784</td>\n",
       "      <td>0.058824</td>\n",
       "      <td>0.049020</td>\n",
       "      <td>...</td>\n",
       "      <td>0.0</td>\n",
       "      <td>0.0</td>\n",
       "      <td>0.0</td>\n",
       "      <td>0.0</td>\n",
       "      <td>0.0</td>\n",
       "      <td>0.0</td>\n",
       "      <td>0.0</td>\n",
       "      <td>0.0</td>\n",
       "      <td>0.0</td>\n",
       "      <td>0.0</td>\n",
       "    </tr>\n",
       "    <tr>\n",
       "      <th>1</th>\n",
       "      <td>0.960114</td>\n",
       "      <td>0.863248</td>\n",
       "      <td>0.461538</td>\n",
       "      <td>0.196581</td>\n",
       "      <td>0.094017</td>\n",
       "      <td>0.125356</td>\n",
       "      <td>0.099715</td>\n",
       "      <td>0.088319</td>\n",
       "      <td>0.074074</td>\n",
       "      <td>0.082621</td>\n",
       "      <td>...</td>\n",
       "      <td>0.0</td>\n",
       "      <td>0.0</td>\n",
       "      <td>0.0</td>\n",
       "      <td>0.0</td>\n",
       "      <td>0.0</td>\n",
       "      <td>0.0</td>\n",
       "      <td>0.0</td>\n",
       "      <td>0.0</td>\n",
       "      <td>0.0</td>\n",
       "      <td>0.0</td>\n",
       "    </tr>\n",
       "    <tr>\n",
       "      <th>2</th>\n",
       "      <td>1.000000</td>\n",
       "      <td>0.659459</td>\n",
       "      <td>0.186486</td>\n",
       "      <td>0.070270</td>\n",
       "      <td>0.070270</td>\n",
       "      <td>0.059459</td>\n",
       "      <td>0.056757</td>\n",
       "      <td>0.043243</td>\n",
       "      <td>0.054054</td>\n",
       "      <td>0.045946</td>\n",
       "      <td>...</td>\n",
       "      <td>0.0</td>\n",
       "      <td>0.0</td>\n",
       "      <td>0.0</td>\n",
       "      <td>0.0</td>\n",
       "      <td>0.0</td>\n",
       "      <td>0.0</td>\n",
       "      <td>0.0</td>\n",
       "      <td>0.0</td>\n",
       "      <td>0.0</td>\n",
       "      <td>0.0</td>\n",
       "    </tr>\n",
       "    <tr>\n",
       "      <th>3</th>\n",
       "      <td>0.925414</td>\n",
       "      <td>0.665746</td>\n",
       "      <td>0.541436</td>\n",
       "      <td>0.276243</td>\n",
       "      <td>0.196133</td>\n",
       "      <td>0.077348</td>\n",
       "      <td>0.071823</td>\n",
       "      <td>0.060773</td>\n",
       "      <td>0.066298</td>\n",
       "      <td>0.058011</td>\n",
       "      <td>...</td>\n",
       "      <td>0.0</td>\n",
       "      <td>0.0</td>\n",
       "      <td>0.0</td>\n",
       "      <td>0.0</td>\n",
       "      <td>0.0</td>\n",
       "      <td>0.0</td>\n",
       "      <td>0.0</td>\n",
       "      <td>0.0</td>\n",
       "      <td>0.0</td>\n",
       "      <td>0.0</td>\n",
       "    </tr>\n",
       "    <tr>\n",
       "      <th>4</th>\n",
       "      <td>0.967136</td>\n",
       "      <td>1.000000</td>\n",
       "      <td>0.830986</td>\n",
       "      <td>0.586854</td>\n",
       "      <td>0.356808</td>\n",
       "      <td>0.248826</td>\n",
       "      <td>0.145540</td>\n",
       "      <td>0.089202</td>\n",
       "      <td>0.117371</td>\n",
       "      <td>0.150235</td>\n",
       "      <td>...</td>\n",
       "      <td>0.0</td>\n",
       "      <td>0.0</td>\n",
       "      <td>0.0</td>\n",
       "      <td>0.0</td>\n",
       "      <td>0.0</td>\n",
       "      <td>0.0</td>\n",
       "      <td>0.0</td>\n",
       "      <td>0.0</td>\n",
       "      <td>0.0</td>\n",
       "      <td>0.0</td>\n",
       "    </tr>\n",
       "  </tbody>\n",
       "</table>\n",
       "<p>5 rows × 188 columns</p>\n",
       "</div>"
      ],
      "text/plain": [
       "        0         1         2         3         4         5         6    \\\n",
       "0  0.977941  0.926471  0.681373  0.245098  0.154412  0.191176  0.151961   \n",
       "1  0.960114  0.863248  0.461538  0.196581  0.094017  0.125356  0.099715   \n",
       "2  1.000000  0.659459  0.186486  0.070270  0.070270  0.059459  0.056757   \n",
       "3  0.925414  0.665746  0.541436  0.276243  0.196133  0.077348  0.071823   \n",
       "4  0.967136  1.000000  0.830986  0.586854  0.356808  0.248826  0.145540   \n",
       "\n",
       "        7         8         9    ...  178  179  180  181  182  183  184  185  \\\n",
       "0  0.085784  0.058824  0.049020  ...  0.0  0.0  0.0  0.0  0.0  0.0  0.0  0.0   \n",
       "1  0.088319  0.074074  0.082621  ...  0.0  0.0  0.0  0.0  0.0  0.0  0.0  0.0   \n",
       "2  0.043243  0.054054  0.045946  ...  0.0  0.0  0.0  0.0  0.0  0.0  0.0  0.0   \n",
       "3  0.060773  0.066298  0.058011  ...  0.0  0.0  0.0  0.0  0.0  0.0  0.0  0.0   \n",
       "4  0.089202  0.117371  0.150235  ...  0.0  0.0  0.0  0.0  0.0  0.0  0.0  0.0   \n",
       "\n",
       "   186  187  \n",
       "0  0.0  0.0  \n",
       "1  0.0  0.0  \n",
       "2  0.0  0.0  \n",
       "3  0.0  0.0  \n",
       "4  0.0  0.0  \n",
       "\n",
       "[5 rows x 188 columns]"
      ]
     },
     "execution_count": 4,
     "metadata": {},
     "output_type": "execute_result"
    }
   ],
   "source": [
    "dataset.head()"
   ]
  },
  {
   "cell_type": "code",
   "execution_count": 5,
   "id": "8a3b06a6",
   "metadata": {
    "execution": {
     "iopub.execute_input": "2025-03-23T03:17:55.414794Z",
     "iopub.status.busy": "2025-03-23T03:17:55.414582Z",
     "iopub.status.idle": "2025-03-23T03:17:55.439308Z",
     "shell.execute_reply": "2025-03-23T03:17:55.438584Z"
    },
    "papermill": {
     "duration": 0.030363,
     "end_time": "2025-03-23T03:17:55.440420",
     "exception": false,
     "start_time": "2025-03-23T03:17:55.410057",
     "status": "completed"
    },
    "tags": []
   },
   "outputs": [
    {
     "name": "stdout",
     "output_type": "stream",
     "text": [
      "<class 'pandas.core.frame.DataFrame'>\n",
      "RangeIndex: 87554 entries, 0 to 87553\n",
      "Columns: 188 entries, 0 to 187\n",
      "dtypes: float64(188)\n",
      "memory usage: 125.6 MB\n"
     ]
    }
   ],
   "source": [
    "dataset.info()"
   ]
  },
  {
   "cell_type": "code",
   "execution_count": 6,
   "id": "e347c055",
   "metadata": {
    "execution": {
     "iopub.execute_input": "2025-03-23T03:17:55.449424Z",
     "iopub.status.busy": "2025-03-23T03:17:55.449191Z",
     "iopub.status.idle": "2025-03-23T03:17:56.253348Z",
     "shell.execute_reply": "2025-03-23T03:17:56.252527Z"
    },
    "papermill": {
     "duration": 0.810147,
     "end_time": "2025-03-23T03:17:56.254819",
     "exception": false,
     "start_time": "2025-03-23T03:17:55.444672",
     "status": "completed"
    },
    "tags": []
   },
   "outputs": [
    {
     "data": {
      "text/html": [
       "<div>\n",
       "<style scoped>\n",
       "    .dataframe tbody tr th:only-of-type {\n",
       "        vertical-align: middle;\n",
       "    }\n",
       "\n",
       "    .dataframe tbody tr th {\n",
       "        vertical-align: top;\n",
       "    }\n",
       "\n",
       "    .dataframe thead th {\n",
       "        text-align: right;\n",
       "    }\n",
       "</style>\n",
       "<table border=\"1\" class=\"dataframe\">\n",
       "  <thead>\n",
       "    <tr style=\"text-align: right;\">\n",
       "      <th></th>\n",
       "      <th>0</th>\n",
       "      <th>1</th>\n",
       "      <th>2</th>\n",
       "      <th>3</th>\n",
       "      <th>4</th>\n",
       "      <th>5</th>\n",
       "      <th>6</th>\n",
       "      <th>7</th>\n",
       "      <th>8</th>\n",
       "      <th>9</th>\n",
       "      <th>...</th>\n",
       "      <th>178</th>\n",
       "      <th>179</th>\n",
       "      <th>180</th>\n",
       "      <th>181</th>\n",
       "      <th>182</th>\n",
       "      <th>183</th>\n",
       "      <th>184</th>\n",
       "      <th>185</th>\n",
       "      <th>186</th>\n",
       "      <th>187</th>\n",
       "    </tr>\n",
       "  </thead>\n",
       "  <tbody>\n",
       "    <tr>\n",
       "      <th>count</th>\n",
       "      <td>87554.000000</td>\n",
       "      <td>87554.000000</td>\n",
       "      <td>87554.000000</td>\n",
       "      <td>87554.000000</td>\n",
       "      <td>87554.000000</td>\n",
       "      <td>87554.000000</td>\n",
       "      <td>87554.000000</td>\n",
       "      <td>87554.000000</td>\n",
       "      <td>87554.000000</td>\n",
       "      <td>87554.000000</td>\n",
       "      <td>...</td>\n",
       "      <td>87554.000000</td>\n",
       "      <td>87554.000000</td>\n",
       "      <td>87554.000000</td>\n",
       "      <td>87554.000000</td>\n",
       "      <td>87554.000000</td>\n",
       "      <td>87554.000000</td>\n",
       "      <td>87554.000000</td>\n",
       "      <td>87554.000000</td>\n",
       "      <td>87554.000000</td>\n",
       "      <td>87554.000000</td>\n",
       "    </tr>\n",
       "    <tr>\n",
       "      <th>mean</th>\n",
       "      <td>0.890360</td>\n",
       "      <td>0.758160</td>\n",
       "      <td>0.423972</td>\n",
       "      <td>0.219104</td>\n",
       "      <td>0.201127</td>\n",
       "      <td>0.210399</td>\n",
       "      <td>0.205808</td>\n",
       "      <td>0.201773</td>\n",
       "      <td>0.198691</td>\n",
       "      <td>0.196757</td>\n",
       "      <td>...</td>\n",
       "      <td>0.005025</td>\n",
       "      <td>0.004628</td>\n",
       "      <td>0.004291</td>\n",
       "      <td>0.003945</td>\n",
       "      <td>0.003681</td>\n",
       "      <td>0.003471</td>\n",
       "      <td>0.003221</td>\n",
       "      <td>0.002945</td>\n",
       "      <td>0.002807</td>\n",
       "      <td>0.473376</td>\n",
       "    </tr>\n",
       "    <tr>\n",
       "      <th>std</th>\n",
       "      <td>0.240909</td>\n",
       "      <td>0.221813</td>\n",
       "      <td>0.227305</td>\n",
       "      <td>0.206878</td>\n",
       "      <td>0.177058</td>\n",
       "      <td>0.171909</td>\n",
       "      <td>0.178481</td>\n",
       "      <td>0.177240</td>\n",
       "      <td>0.171778</td>\n",
       "      <td>0.168357</td>\n",
       "      <td>...</td>\n",
       "      <td>0.044154</td>\n",
       "      <td>0.042089</td>\n",
       "      <td>0.040525</td>\n",
       "      <td>0.038651</td>\n",
       "      <td>0.037193</td>\n",
       "      <td>0.036255</td>\n",
       "      <td>0.034789</td>\n",
       "      <td>0.032865</td>\n",
       "      <td>0.031924</td>\n",
       "      <td>1.143184</td>\n",
       "    </tr>\n",
       "    <tr>\n",
       "      <th>min</th>\n",
       "      <td>0.000000</td>\n",
       "      <td>0.000000</td>\n",
       "      <td>0.000000</td>\n",
       "      <td>0.000000</td>\n",
       "      <td>0.000000</td>\n",
       "      <td>0.000000</td>\n",
       "      <td>0.000000</td>\n",
       "      <td>0.000000</td>\n",
       "      <td>0.000000</td>\n",
       "      <td>0.000000</td>\n",
       "      <td>...</td>\n",
       "      <td>0.000000</td>\n",
       "      <td>0.000000</td>\n",
       "      <td>0.000000</td>\n",
       "      <td>0.000000</td>\n",
       "      <td>0.000000</td>\n",
       "      <td>0.000000</td>\n",
       "      <td>0.000000</td>\n",
       "      <td>0.000000</td>\n",
       "      <td>0.000000</td>\n",
       "      <td>0.000000</td>\n",
       "    </tr>\n",
       "    <tr>\n",
       "      <th>25%</th>\n",
       "      <td>0.921922</td>\n",
       "      <td>0.682486</td>\n",
       "      <td>0.250969</td>\n",
       "      <td>0.048458</td>\n",
       "      <td>0.082329</td>\n",
       "      <td>0.088416</td>\n",
       "      <td>0.073333</td>\n",
       "      <td>0.066116</td>\n",
       "      <td>0.065000</td>\n",
       "      <td>0.068639</td>\n",
       "      <td>...</td>\n",
       "      <td>0.000000</td>\n",
       "      <td>0.000000</td>\n",
       "      <td>0.000000</td>\n",
       "      <td>0.000000</td>\n",
       "      <td>0.000000</td>\n",
       "      <td>0.000000</td>\n",
       "      <td>0.000000</td>\n",
       "      <td>0.000000</td>\n",
       "      <td>0.000000</td>\n",
       "      <td>0.000000</td>\n",
       "    </tr>\n",
       "    <tr>\n",
       "      <th>50%</th>\n",
       "      <td>0.991342</td>\n",
       "      <td>0.826013</td>\n",
       "      <td>0.429472</td>\n",
       "      <td>0.166000</td>\n",
       "      <td>0.147878</td>\n",
       "      <td>0.158798</td>\n",
       "      <td>0.145324</td>\n",
       "      <td>0.144424</td>\n",
       "      <td>0.150000</td>\n",
       "      <td>0.148734</td>\n",
       "      <td>...</td>\n",
       "      <td>0.000000</td>\n",
       "      <td>0.000000</td>\n",
       "      <td>0.000000</td>\n",
       "      <td>0.000000</td>\n",
       "      <td>0.000000</td>\n",
       "      <td>0.000000</td>\n",
       "      <td>0.000000</td>\n",
       "      <td>0.000000</td>\n",
       "      <td>0.000000</td>\n",
       "      <td>0.000000</td>\n",
       "    </tr>\n",
       "    <tr>\n",
       "      <th>75%</th>\n",
       "      <td>1.000000</td>\n",
       "      <td>0.910506</td>\n",
       "      <td>0.578767</td>\n",
       "      <td>0.341727</td>\n",
       "      <td>0.258993</td>\n",
       "      <td>0.287628</td>\n",
       "      <td>0.298237</td>\n",
       "      <td>0.295391</td>\n",
       "      <td>0.290832</td>\n",
       "      <td>0.283636</td>\n",
       "      <td>...</td>\n",
       "      <td>0.000000</td>\n",
       "      <td>0.000000</td>\n",
       "      <td>0.000000</td>\n",
       "      <td>0.000000</td>\n",
       "      <td>0.000000</td>\n",
       "      <td>0.000000</td>\n",
       "      <td>0.000000</td>\n",
       "      <td>0.000000</td>\n",
       "      <td>0.000000</td>\n",
       "      <td>0.000000</td>\n",
       "    </tr>\n",
       "    <tr>\n",
       "      <th>max</th>\n",
       "      <td>1.000000</td>\n",
       "      <td>1.000000</td>\n",
       "      <td>1.000000</td>\n",
       "      <td>1.000000</td>\n",
       "      <td>1.000000</td>\n",
       "      <td>1.000000</td>\n",
       "      <td>1.000000</td>\n",
       "      <td>1.000000</td>\n",
       "      <td>1.000000</td>\n",
       "      <td>1.000000</td>\n",
       "      <td>...</td>\n",
       "      <td>1.000000</td>\n",
       "      <td>1.000000</td>\n",
       "      <td>1.000000</td>\n",
       "      <td>1.000000</td>\n",
       "      <td>1.000000</td>\n",
       "      <td>1.000000</td>\n",
       "      <td>1.000000</td>\n",
       "      <td>1.000000</td>\n",
       "      <td>1.000000</td>\n",
       "      <td>4.000000</td>\n",
       "    </tr>\n",
       "  </tbody>\n",
       "</table>\n",
       "<p>8 rows × 188 columns</p>\n",
       "</div>"
      ],
      "text/plain": [
       "                0             1             2             3             4    \\\n",
       "count  87554.000000  87554.000000  87554.000000  87554.000000  87554.000000   \n",
       "mean       0.890360      0.758160      0.423972      0.219104      0.201127   \n",
       "std        0.240909      0.221813      0.227305      0.206878      0.177058   \n",
       "min        0.000000      0.000000      0.000000      0.000000      0.000000   \n",
       "25%        0.921922      0.682486      0.250969      0.048458      0.082329   \n",
       "50%        0.991342      0.826013      0.429472      0.166000      0.147878   \n",
       "75%        1.000000      0.910506      0.578767      0.341727      0.258993   \n",
       "max        1.000000      1.000000      1.000000      1.000000      1.000000   \n",
       "\n",
       "                5             6             7             8             9    \\\n",
       "count  87554.000000  87554.000000  87554.000000  87554.000000  87554.000000   \n",
       "mean       0.210399      0.205808      0.201773      0.198691      0.196757   \n",
       "std        0.171909      0.178481      0.177240      0.171778      0.168357   \n",
       "min        0.000000      0.000000      0.000000      0.000000      0.000000   \n",
       "25%        0.088416      0.073333      0.066116      0.065000      0.068639   \n",
       "50%        0.158798      0.145324      0.144424      0.150000      0.148734   \n",
       "75%        0.287628      0.298237      0.295391      0.290832      0.283636   \n",
       "max        1.000000      1.000000      1.000000      1.000000      1.000000   \n",
       "\n",
       "       ...           178           179           180           181  \\\n",
       "count  ...  87554.000000  87554.000000  87554.000000  87554.000000   \n",
       "mean   ...      0.005025      0.004628      0.004291      0.003945   \n",
       "std    ...      0.044154      0.042089      0.040525      0.038651   \n",
       "min    ...      0.000000      0.000000      0.000000      0.000000   \n",
       "25%    ...      0.000000      0.000000      0.000000      0.000000   \n",
       "50%    ...      0.000000      0.000000      0.000000      0.000000   \n",
       "75%    ...      0.000000      0.000000      0.000000      0.000000   \n",
       "max    ...      1.000000      1.000000      1.000000      1.000000   \n",
       "\n",
       "                182           183           184           185           186  \\\n",
       "count  87554.000000  87554.000000  87554.000000  87554.000000  87554.000000   \n",
       "mean       0.003681      0.003471      0.003221      0.002945      0.002807   \n",
       "std        0.037193      0.036255      0.034789      0.032865      0.031924   \n",
       "min        0.000000      0.000000      0.000000      0.000000      0.000000   \n",
       "25%        0.000000      0.000000      0.000000      0.000000      0.000000   \n",
       "50%        0.000000      0.000000      0.000000      0.000000      0.000000   \n",
       "75%        0.000000      0.000000      0.000000      0.000000      0.000000   \n",
       "max        1.000000      1.000000      1.000000      1.000000      1.000000   \n",
       "\n",
       "                187  \n",
       "count  87554.000000  \n",
       "mean       0.473376  \n",
       "std        1.143184  \n",
       "min        0.000000  \n",
       "25%        0.000000  \n",
       "50%        0.000000  \n",
       "75%        0.000000  \n",
       "max        4.000000  \n",
       "\n",
       "[8 rows x 188 columns]"
      ]
     },
     "execution_count": 6,
     "metadata": {},
     "output_type": "execute_result"
    }
   ],
   "source": [
    "dataset.describe()"
   ]
  },
  {
   "cell_type": "code",
   "execution_count": 7,
   "id": "c71d9165",
   "metadata": {
    "execution": {
     "iopub.execute_input": "2025-03-23T03:17:56.264830Z",
     "iopub.status.busy": "2025-03-23T03:17:56.264588Z",
     "iopub.status.idle": "2025-03-23T03:17:56.282167Z",
     "shell.execute_reply": "2025-03-23T03:17:56.281493Z"
    },
    "papermill": {
     "duration": 0.023592,
     "end_time": "2025-03-23T03:17:56.283221",
     "exception": false,
     "start_time": "2025-03-23T03:17:56.259629",
     "status": "completed"
    },
    "tags": []
   },
   "outputs": [
    {
     "data": {
      "text/html": [
       "<div>\n",
       "<style scoped>\n",
       "    .dataframe tbody tr th:only-of-type {\n",
       "        vertical-align: middle;\n",
       "    }\n",
       "\n",
       "    .dataframe tbody tr th {\n",
       "        vertical-align: top;\n",
       "    }\n",
       "\n",
       "    .dataframe thead th {\n",
       "        text-align: right;\n",
       "    }\n",
       "</style>\n",
       "<table border=\"1\" class=\"dataframe\">\n",
       "  <thead>\n",
       "    <tr style=\"text-align: right;\">\n",
       "      <th></th>\n",
       "      <th>0</th>\n",
       "      <th>1</th>\n",
       "      <th>2</th>\n",
       "      <th>3</th>\n",
       "      <th>4</th>\n",
       "      <th>5</th>\n",
       "      <th>6</th>\n",
       "      <th>7</th>\n",
       "      <th>8</th>\n",
       "      <th>9</th>\n",
       "      <th>...</th>\n",
       "      <th>178</th>\n",
       "      <th>179</th>\n",
       "      <th>180</th>\n",
       "      <th>181</th>\n",
       "      <th>182</th>\n",
       "      <th>183</th>\n",
       "      <th>184</th>\n",
       "      <th>185</th>\n",
       "      <th>186</th>\n",
       "      <th>187</th>\n",
       "    </tr>\n",
       "  </thead>\n",
       "  <tbody>\n",
       "    <tr>\n",
       "      <th>0</th>\n",
       "      <td>1.000000</td>\n",
       "      <td>0.758264</td>\n",
       "      <td>0.111570</td>\n",
       "      <td>0.000000</td>\n",
       "      <td>0.080579</td>\n",
       "      <td>0.078512</td>\n",
       "      <td>0.066116</td>\n",
       "      <td>0.049587</td>\n",
       "      <td>0.047521</td>\n",
       "      <td>0.035124</td>\n",
       "      <td>...</td>\n",
       "      <td>0.0</td>\n",
       "      <td>0.0</td>\n",
       "      <td>0.0</td>\n",
       "      <td>0.0</td>\n",
       "      <td>0.0</td>\n",
       "      <td>0.0</td>\n",
       "      <td>0.0</td>\n",
       "      <td>0.0</td>\n",
       "      <td>0.0</td>\n",
       "      <td>0.0</td>\n",
       "    </tr>\n",
       "    <tr>\n",
       "      <th>1</th>\n",
       "      <td>0.908425</td>\n",
       "      <td>0.783883</td>\n",
       "      <td>0.531136</td>\n",
       "      <td>0.362637</td>\n",
       "      <td>0.366300</td>\n",
       "      <td>0.344322</td>\n",
       "      <td>0.333333</td>\n",
       "      <td>0.307692</td>\n",
       "      <td>0.296703</td>\n",
       "      <td>0.300366</td>\n",
       "      <td>...</td>\n",
       "      <td>0.0</td>\n",
       "      <td>0.0</td>\n",
       "      <td>0.0</td>\n",
       "      <td>0.0</td>\n",
       "      <td>0.0</td>\n",
       "      <td>0.0</td>\n",
       "      <td>0.0</td>\n",
       "      <td>0.0</td>\n",
       "      <td>0.0</td>\n",
       "      <td>0.0</td>\n",
       "    </tr>\n",
       "    <tr>\n",
       "      <th>2</th>\n",
       "      <td>0.730088</td>\n",
       "      <td>0.212389</td>\n",
       "      <td>0.000000</td>\n",
       "      <td>0.119469</td>\n",
       "      <td>0.101770</td>\n",
       "      <td>0.101770</td>\n",
       "      <td>0.110619</td>\n",
       "      <td>0.123894</td>\n",
       "      <td>0.115044</td>\n",
       "      <td>0.132743</td>\n",
       "      <td>...</td>\n",
       "      <td>0.0</td>\n",
       "      <td>0.0</td>\n",
       "      <td>0.0</td>\n",
       "      <td>0.0</td>\n",
       "      <td>0.0</td>\n",
       "      <td>0.0</td>\n",
       "      <td>0.0</td>\n",
       "      <td>0.0</td>\n",
       "      <td>0.0</td>\n",
       "      <td>0.0</td>\n",
       "    </tr>\n",
       "    <tr>\n",
       "      <th>3</th>\n",
       "      <td>1.000000</td>\n",
       "      <td>0.910417</td>\n",
       "      <td>0.681250</td>\n",
       "      <td>0.472917</td>\n",
       "      <td>0.229167</td>\n",
       "      <td>0.068750</td>\n",
       "      <td>0.000000</td>\n",
       "      <td>0.004167</td>\n",
       "      <td>0.014583</td>\n",
       "      <td>0.054167</td>\n",
       "      <td>...</td>\n",
       "      <td>0.0</td>\n",
       "      <td>0.0</td>\n",
       "      <td>0.0</td>\n",
       "      <td>0.0</td>\n",
       "      <td>0.0</td>\n",
       "      <td>0.0</td>\n",
       "      <td>0.0</td>\n",
       "      <td>0.0</td>\n",
       "      <td>0.0</td>\n",
       "      <td>0.0</td>\n",
       "    </tr>\n",
       "    <tr>\n",
       "      <th>4</th>\n",
       "      <td>0.570470</td>\n",
       "      <td>0.399329</td>\n",
       "      <td>0.238255</td>\n",
       "      <td>0.147651</td>\n",
       "      <td>0.000000</td>\n",
       "      <td>0.003356</td>\n",
       "      <td>0.040268</td>\n",
       "      <td>0.080537</td>\n",
       "      <td>0.070470</td>\n",
       "      <td>0.090604</td>\n",
       "      <td>...</td>\n",
       "      <td>0.0</td>\n",
       "      <td>0.0</td>\n",
       "      <td>0.0</td>\n",
       "      <td>0.0</td>\n",
       "      <td>0.0</td>\n",
       "      <td>0.0</td>\n",
       "      <td>0.0</td>\n",
       "      <td>0.0</td>\n",
       "      <td>0.0</td>\n",
       "      <td>0.0</td>\n",
       "    </tr>\n",
       "  </tbody>\n",
       "</table>\n",
       "<p>5 rows × 188 columns</p>\n",
       "</div>"
      ],
      "text/plain": [
       "        0         1         2         3         4         5         6    \\\n",
       "0  1.000000  0.758264  0.111570  0.000000  0.080579  0.078512  0.066116   \n",
       "1  0.908425  0.783883  0.531136  0.362637  0.366300  0.344322  0.333333   \n",
       "2  0.730088  0.212389  0.000000  0.119469  0.101770  0.101770  0.110619   \n",
       "3  1.000000  0.910417  0.681250  0.472917  0.229167  0.068750  0.000000   \n",
       "4  0.570470  0.399329  0.238255  0.147651  0.000000  0.003356  0.040268   \n",
       "\n",
       "        7         8         9    ...  178  179  180  181  182  183  184  185  \\\n",
       "0  0.049587  0.047521  0.035124  ...  0.0  0.0  0.0  0.0  0.0  0.0  0.0  0.0   \n",
       "1  0.307692  0.296703  0.300366  ...  0.0  0.0  0.0  0.0  0.0  0.0  0.0  0.0   \n",
       "2  0.123894  0.115044  0.132743  ...  0.0  0.0  0.0  0.0  0.0  0.0  0.0  0.0   \n",
       "3  0.004167  0.014583  0.054167  ...  0.0  0.0  0.0  0.0  0.0  0.0  0.0  0.0   \n",
       "4  0.080537  0.070470  0.090604  ...  0.0  0.0  0.0  0.0  0.0  0.0  0.0  0.0   \n",
       "\n",
       "   186  187  \n",
       "0  0.0  0.0  \n",
       "1  0.0  0.0  \n",
       "2  0.0  0.0  \n",
       "3  0.0  0.0  \n",
       "4  0.0  0.0  \n",
       "\n",
       "[5 rows x 188 columns]"
      ]
     },
     "execution_count": 7,
     "metadata": {},
     "output_type": "execute_result"
    }
   ],
   "source": [
    "test.head()"
   ]
  },
  {
   "cell_type": "code",
   "execution_count": 8,
   "id": "ab404dc6",
   "metadata": {
    "execution": {
     "iopub.execute_input": "2025-03-23T03:17:56.293083Z",
     "iopub.status.busy": "2025-03-23T03:17:56.292881Z",
     "iopub.status.idle": "2025-03-23T03:17:56.303054Z",
     "shell.execute_reply": "2025-03-23T03:17:56.302316Z"
    },
    "papermill": {
     "duration": 0.016396,
     "end_time": "2025-03-23T03:17:56.304190",
     "exception": false,
     "start_time": "2025-03-23T03:17:56.287794",
     "status": "completed"
    },
    "tags": []
   },
   "outputs": [
    {
     "name": "stdout",
     "output_type": "stream",
     "text": [
      "<class 'pandas.core.frame.DataFrame'>\n",
      "RangeIndex: 21892 entries, 0 to 21891\n",
      "Columns: 188 entries, 0 to 187\n",
      "dtypes: float64(188)\n",
      "memory usage: 31.4 MB\n"
     ]
    }
   ],
   "source": [
    "test.info()"
   ]
  },
  {
   "cell_type": "code",
   "execution_count": 9,
   "id": "bbc7c57d",
   "metadata": {
    "execution": {
     "iopub.execute_input": "2025-03-23T03:17:56.314671Z",
     "iopub.status.busy": "2025-03-23T03:17:56.314423Z",
     "iopub.status.idle": "2025-03-23T03:17:56.694731Z",
     "shell.execute_reply": "2025-03-23T03:17:56.693904Z"
    },
    "papermill": {
     "duration": 0.387305,
     "end_time": "2025-03-23T03:17:56.696215",
     "exception": false,
     "start_time": "2025-03-23T03:17:56.308910",
     "status": "completed"
    },
    "tags": []
   },
   "outputs": [
    {
     "data": {
      "text/html": [
       "<div>\n",
       "<style scoped>\n",
       "    .dataframe tbody tr th:only-of-type {\n",
       "        vertical-align: middle;\n",
       "    }\n",
       "\n",
       "    .dataframe tbody tr th {\n",
       "        vertical-align: top;\n",
       "    }\n",
       "\n",
       "    .dataframe thead th {\n",
       "        text-align: right;\n",
       "    }\n",
       "</style>\n",
       "<table border=\"1\" class=\"dataframe\">\n",
       "  <thead>\n",
       "    <tr style=\"text-align: right;\">\n",
       "      <th></th>\n",
       "      <th>0</th>\n",
       "      <th>1</th>\n",
       "      <th>2</th>\n",
       "      <th>3</th>\n",
       "      <th>4</th>\n",
       "      <th>5</th>\n",
       "      <th>6</th>\n",
       "      <th>7</th>\n",
       "      <th>8</th>\n",
       "      <th>9</th>\n",
       "      <th>...</th>\n",
       "      <th>178</th>\n",
       "      <th>179</th>\n",
       "      <th>180</th>\n",
       "      <th>181</th>\n",
       "      <th>182</th>\n",
       "      <th>183</th>\n",
       "      <th>184</th>\n",
       "      <th>185</th>\n",
       "      <th>186</th>\n",
       "      <th>187</th>\n",
       "    </tr>\n",
       "  </thead>\n",
       "  <tbody>\n",
       "    <tr>\n",
       "      <th>count</th>\n",
       "      <td>21892.000000</td>\n",
       "      <td>21892.000000</td>\n",
       "      <td>21892.000000</td>\n",
       "      <td>21892.000000</td>\n",
       "      <td>21892.000000</td>\n",
       "      <td>21892.000000</td>\n",
       "      <td>21892.000000</td>\n",
       "      <td>21892.000000</td>\n",
       "      <td>21892.000000</td>\n",
       "      <td>21892.000000</td>\n",
       "      <td>...</td>\n",
       "      <td>21892.000000</td>\n",
       "      <td>21892.000000</td>\n",
       "      <td>21892.000000</td>\n",
       "      <td>21892.000000</td>\n",
       "      <td>21892.000000</td>\n",
       "      <td>21892.000000</td>\n",
       "      <td>21892.000000</td>\n",
       "      <td>21892.000000</td>\n",
       "      <td>21892.000000</td>\n",
       "      <td>21892.000000</td>\n",
       "    </tr>\n",
       "    <tr>\n",
       "      <th>mean</th>\n",
       "      <td>0.894410</td>\n",
       "      <td>0.761902</td>\n",
       "      <td>0.426627</td>\n",
       "      <td>0.221596</td>\n",
       "      <td>0.201676</td>\n",
       "      <td>0.209891</td>\n",
       "      <td>0.204805</td>\n",
       "      <td>0.200992</td>\n",
       "      <td>0.197634</td>\n",
       "      <td>0.196022</td>\n",
       "      <td>...</td>\n",
       "      <td>0.004588</td>\n",
       "      <td>0.004327</td>\n",
       "      <td>0.004020</td>\n",
       "      <td>0.003789</td>\n",
       "      <td>0.003638</td>\n",
       "      <td>0.003459</td>\n",
       "      <td>0.003166</td>\n",
       "      <td>0.003000</td>\n",
       "      <td>0.002946</td>\n",
       "      <td>0.473689</td>\n",
       "    </tr>\n",
       "    <tr>\n",
       "      <th>std</th>\n",
       "      <td>0.234560</td>\n",
       "      <td>0.218659</td>\n",
       "      <td>0.228572</td>\n",
       "      <td>0.208711</td>\n",
       "      <td>0.177727</td>\n",
       "      <td>0.172194</td>\n",
       "      <td>0.177946</td>\n",
       "      <td>0.176142</td>\n",
       "      <td>0.170228</td>\n",
       "      <td>0.166707</td>\n",
       "      <td>...</td>\n",
       "      <td>0.043128</td>\n",
       "      <td>0.042187</td>\n",
       "      <td>0.040255</td>\n",
       "      <td>0.039397</td>\n",
       "      <td>0.038535</td>\n",
       "      <td>0.037717</td>\n",
       "      <td>0.035903</td>\n",
       "      <td>0.035522</td>\n",
       "      <td>0.035266</td>\n",
       "      <td>1.143447</td>\n",
       "    </tr>\n",
       "    <tr>\n",
       "      <th>min</th>\n",
       "      <td>0.000000</td>\n",
       "      <td>0.000000</td>\n",
       "      <td>0.000000</td>\n",
       "      <td>0.000000</td>\n",
       "      <td>0.000000</td>\n",
       "      <td>0.000000</td>\n",
       "      <td>0.000000</td>\n",
       "      <td>0.000000</td>\n",
       "      <td>0.000000</td>\n",
       "      <td>0.000000</td>\n",
       "      <td>...</td>\n",
       "      <td>0.000000</td>\n",
       "      <td>0.000000</td>\n",
       "      <td>0.000000</td>\n",
       "      <td>0.000000</td>\n",
       "      <td>0.000000</td>\n",
       "      <td>0.000000</td>\n",
       "      <td>0.000000</td>\n",
       "      <td>0.000000</td>\n",
       "      <td>0.000000</td>\n",
       "      <td>0.000000</td>\n",
       "    </tr>\n",
       "    <tr>\n",
       "      <th>25%</th>\n",
       "      <td>0.924260</td>\n",
       "      <td>0.683366</td>\n",
       "      <td>0.251197</td>\n",
       "      <td>0.050505</td>\n",
       "      <td>0.082873</td>\n",
       "      <td>0.087912</td>\n",
       "      <td>0.072663</td>\n",
       "      <td>0.065997</td>\n",
       "      <td>0.064516</td>\n",
       "      <td>0.068493</td>\n",
       "      <td>...</td>\n",
       "      <td>0.000000</td>\n",
       "      <td>0.000000</td>\n",
       "      <td>0.000000</td>\n",
       "      <td>0.000000</td>\n",
       "      <td>0.000000</td>\n",
       "      <td>0.000000</td>\n",
       "      <td>0.000000</td>\n",
       "      <td>0.000000</td>\n",
       "      <td>0.000000</td>\n",
       "      <td>0.000000</td>\n",
       "    </tr>\n",
       "    <tr>\n",
       "      <th>50%</th>\n",
       "      <td>0.990431</td>\n",
       "      <td>0.828996</td>\n",
       "      <td>0.432777</td>\n",
       "      <td>0.167630</td>\n",
       "      <td>0.147642</td>\n",
       "      <td>0.158111</td>\n",
       "      <td>0.144068</td>\n",
       "      <td>0.144509</td>\n",
       "      <td>0.150422</td>\n",
       "      <td>0.149029</td>\n",
       "      <td>...</td>\n",
       "      <td>0.000000</td>\n",
       "      <td>0.000000</td>\n",
       "      <td>0.000000</td>\n",
       "      <td>0.000000</td>\n",
       "      <td>0.000000</td>\n",
       "      <td>0.000000</td>\n",
       "      <td>0.000000</td>\n",
       "      <td>0.000000</td>\n",
       "      <td>0.000000</td>\n",
       "      <td>0.000000</td>\n",
       "    </tr>\n",
       "    <tr>\n",
       "      <th>75%</th>\n",
       "      <td>1.000000</td>\n",
       "      <td>0.912319</td>\n",
       "      <td>0.583991</td>\n",
       "      <td>0.347092</td>\n",
       "      <td>0.259211</td>\n",
       "      <td>0.287356</td>\n",
       "      <td>0.298453</td>\n",
       "      <td>0.294563</td>\n",
       "      <td>0.289907</td>\n",
       "      <td>0.282956</td>\n",
       "      <td>...</td>\n",
       "      <td>0.000000</td>\n",
       "      <td>0.000000</td>\n",
       "      <td>0.000000</td>\n",
       "      <td>0.000000</td>\n",
       "      <td>0.000000</td>\n",
       "      <td>0.000000</td>\n",
       "      <td>0.000000</td>\n",
       "      <td>0.000000</td>\n",
       "      <td>0.000000</td>\n",
       "      <td>0.000000</td>\n",
       "    </tr>\n",
       "    <tr>\n",
       "      <th>max</th>\n",
       "      <td>1.000000</td>\n",
       "      <td>1.000000</td>\n",
       "      <td>1.000000</td>\n",
       "      <td>1.000000</td>\n",
       "      <td>1.000000</td>\n",
       "      <td>1.000000</td>\n",
       "      <td>1.000000</td>\n",
       "      <td>1.000000</td>\n",
       "      <td>1.000000</td>\n",
       "      <td>0.991429</td>\n",
       "      <td>...</td>\n",
       "      <td>0.980392</td>\n",
       "      <td>1.000000</td>\n",
       "      <td>0.966102</td>\n",
       "      <td>1.000000</td>\n",
       "      <td>1.000000</td>\n",
       "      <td>1.000000</td>\n",
       "      <td>1.000000</td>\n",
       "      <td>0.996053</td>\n",
       "      <td>1.000000</td>\n",
       "      <td>4.000000</td>\n",
       "    </tr>\n",
       "  </tbody>\n",
       "</table>\n",
       "<p>8 rows × 188 columns</p>\n",
       "</div>"
      ],
      "text/plain": [
       "                0             1             2             3             4    \\\n",
       "count  21892.000000  21892.000000  21892.000000  21892.000000  21892.000000   \n",
       "mean       0.894410      0.761902      0.426627      0.221596      0.201676   \n",
       "std        0.234560      0.218659      0.228572      0.208711      0.177727   \n",
       "min        0.000000      0.000000      0.000000      0.000000      0.000000   \n",
       "25%        0.924260      0.683366      0.251197      0.050505      0.082873   \n",
       "50%        0.990431      0.828996      0.432777      0.167630      0.147642   \n",
       "75%        1.000000      0.912319      0.583991      0.347092      0.259211   \n",
       "max        1.000000      1.000000      1.000000      1.000000      1.000000   \n",
       "\n",
       "                5             6             7             8             9    \\\n",
       "count  21892.000000  21892.000000  21892.000000  21892.000000  21892.000000   \n",
       "mean       0.209891      0.204805      0.200992      0.197634      0.196022   \n",
       "std        0.172194      0.177946      0.176142      0.170228      0.166707   \n",
       "min        0.000000      0.000000      0.000000      0.000000      0.000000   \n",
       "25%        0.087912      0.072663      0.065997      0.064516      0.068493   \n",
       "50%        0.158111      0.144068      0.144509      0.150422      0.149029   \n",
       "75%        0.287356      0.298453      0.294563      0.289907      0.282956   \n",
       "max        1.000000      1.000000      1.000000      1.000000      0.991429   \n",
       "\n",
       "       ...           178           179           180           181  \\\n",
       "count  ...  21892.000000  21892.000000  21892.000000  21892.000000   \n",
       "mean   ...      0.004588      0.004327      0.004020      0.003789   \n",
       "std    ...      0.043128      0.042187      0.040255      0.039397   \n",
       "min    ...      0.000000      0.000000      0.000000      0.000000   \n",
       "25%    ...      0.000000      0.000000      0.000000      0.000000   \n",
       "50%    ...      0.000000      0.000000      0.000000      0.000000   \n",
       "75%    ...      0.000000      0.000000      0.000000      0.000000   \n",
       "max    ...      0.980392      1.000000      0.966102      1.000000   \n",
       "\n",
       "                182           183           184           185           186  \\\n",
       "count  21892.000000  21892.000000  21892.000000  21892.000000  21892.000000   \n",
       "mean       0.003638      0.003459      0.003166      0.003000      0.002946   \n",
       "std        0.038535      0.037717      0.035903      0.035522      0.035266   \n",
       "min        0.000000      0.000000      0.000000      0.000000      0.000000   \n",
       "25%        0.000000      0.000000      0.000000      0.000000      0.000000   \n",
       "50%        0.000000      0.000000      0.000000      0.000000      0.000000   \n",
       "75%        0.000000      0.000000      0.000000      0.000000      0.000000   \n",
       "max        1.000000      1.000000      1.000000      0.996053      1.000000   \n",
       "\n",
       "                187  \n",
       "count  21892.000000  \n",
       "mean       0.473689  \n",
       "std        1.143447  \n",
       "min        0.000000  \n",
       "25%        0.000000  \n",
       "50%        0.000000  \n",
       "75%        0.000000  \n",
       "max        4.000000  \n",
       "\n",
       "[8 rows x 188 columns]"
      ]
     },
     "execution_count": 9,
     "metadata": {},
     "output_type": "execute_result"
    }
   ],
   "source": [
    "test.describe()"
   ]
  },
  {
   "cell_type": "code",
   "execution_count": 10,
   "id": "f46fb9e3",
   "metadata": {
    "execution": {
     "iopub.execute_input": "2025-03-23T03:17:56.707317Z",
     "iopub.status.busy": "2025-03-23T03:17:56.707090Z",
     "iopub.status.idle": "2025-03-23T03:17:56.747944Z",
     "shell.execute_reply": "2025-03-23T03:17:56.747239Z"
    },
    "papermill": {
     "duration": 0.047651,
     "end_time": "2025-03-23T03:17:56.749235",
     "exception": false,
     "start_time": "2025-03-23T03:17:56.701584",
     "status": "completed"
    },
    "tags": []
   },
   "outputs": [
    {
     "data": {
      "text/plain": [
       "False"
      ]
     },
     "execution_count": 10,
     "metadata": {},
     "output_type": "execute_result"
    }
   ],
   "source": [
    "dataset.isna().values.any()"
   ]
  },
  {
   "cell_type": "code",
   "execution_count": 11,
   "id": "44f78b7e",
   "metadata": {
    "execution": {
     "iopub.execute_input": "2025-03-23T03:17:56.760666Z",
     "iopub.status.busy": "2025-03-23T03:17:56.760411Z",
     "iopub.status.idle": "2025-03-23T03:17:56.773453Z",
     "shell.execute_reply": "2025-03-23T03:17:56.772688Z"
    },
    "papermill": {
     "duration": 0.019771,
     "end_time": "2025-03-23T03:17:56.774728",
     "exception": false,
     "start_time": "2025-03-23T03:17:56.754957",
     "status": "completed"
    },
    "tags": []
   },
   "outputs": [
    {
     "data": {
      "text/plain": [
       "False"
      ]
     },
     "execution_count": 11,
     "metadata": {},
     "output_type": "execute_result"
    }
   ],
   "source": [
    "test.isna().values.any()"
   ]
  },
  {
   "cell_type": "code",
   "execution_count": 12,
   "id": "2877faad",
   "metadata": {
    "execution": {
     "iopub.execute_input": "2025-03-23T03:17:56.785427Z",
     "iopub.status.busy": "2025-03-23T03:17:56.785214Z",
     "iopub.status.idle": "2025-03-23T03:17:57.288790Z",
     "shell.execute_reply": "2025-03-23T03:17:57.287987Z"
    },
    "papermill": {
     "duration": 0.51032,
     "end_time": "2025-03-23T03:17:57.290133",
     "exception": false,
     "start_time": "2025-03-23T03:17:56.779813",
     "status": "completed"
    },
    "tags": []
   },
   "outputs": [
    {
     "data": {
      "text/plain": [
       "0"
      ]
     },
     "execution_count": 12,
     "metadata": {},
     "output_type": "execute_result"
    }
   ],
   "source": [
    "dataset.duplicated().sum()"
   ]
  },
  {
   "cell_type": "code",
   "execution_count": 13,
   "id": "58ba25a4",
   "metadata": {
    "execution": {
     "iopub.execute_input": "2025-03-23T03:17:57.301486Z",
     "iopub.status.busy": "2025-03-23T03:17:57.301255Z",
     "iopub.status.idle": "2025-03-23T03:17:57.437795Z",
     "shell.execute_reply": "2025-03-23T03:17:57.436966Z"
    },
    "papermill": {
     "duration": 0.143543,
     "end_time": "2025-03-23T03:17:57.439122",
     "exception": false,
     "start_time": "2025-03-23T03:17:57.295579",
     "status": "completed"
    },
    "tags": []
   },
   "outputs": [
    {
     "data": {
      "text/plain": [
       "0"
      ]
     },
     "execution_count": 13,
     "metadata": {},
     "output_type": "execute_result"
    }
   ],
   "source": [
    "test.duplicated().sum()"
   ]
  },
  {
   "cell_type": "code",
   "execution_count": 14,
   "id": "b1f1f25f",
   "metadata": {
    "execution": {
     "iopub.execute_input": "2025-03-23T03:17:57.451742Z",
     "iopub.status.busy": "2025-03-23T03:17:57.451431Z",
     "iopub.status.idle": "2025-03-23T03:17:57.459717Z",
     "shell.execute_reply": "2025-03-23T03:17:57.458961Z"
    },
    "papermill": {
     "duration": 0.016145,
     "end_time": "2025-03-23T03:17:57.460960",
     "exception": false,
     "start_time": "2025-03-23T03:17:57.444815",
     "status": "completed"
    },
    "tags": []
   },
   "outputs": [
    {
     "data": {
      "text/plain": [
       "187\n",
       "0.0    72471\n",
       "4.0     6431\n",
       "2.0     5788\n",
       "1.0     2223\n",
       "3.0      641\n",
       "Name: count, dtype: int64"
      ]
     },
     "execution_count": 14,
     "metadata": {},
     "output_type": "execute_result"
    }
   ],
   "source": [
    "dataset.iloc[:,-1].value_counts()"
   ]
  },
  {
   "cell_type": "code",
   "execution_count": 15,
   "id": "1e41d8a2",
   "metadata": {
    "execution": {
     "iopub.execute_input": "2025-03-23T03:17:57.474539Z",
     "iopub.status.busy": "2025-03-23T03:17:57.474170Z",
     "iopub.status.idle": "2025-03-23T03:17:57.478572Z",
     "shell.execute_reply": "2025-03-23T03:17:57.477762Z"
    },
    "papermill": {
     "duration": 0.0129,
     "end_time": "2025-03-23T03:17:57.480055",
     "exception": false,
     "start_time": "2025-03-23T03:17:57.467155",
     "status": "completed"
    },
    "tags": []
   },
   "outputs": [],
   "source": [
    "X = dataset.iloc[:, :-1]\n",
    "y = dataset.iloc[:, -1]"
   ]
  },
  {
   "cell_type": "code",
   "execution_count": 16,
   "id": "1bc1cbc5",
   "metadata": {
    "execution": {
     "iopub.execute_input": "2025-03-23T03:17:57.493938Z",
     "iopub.status.busy": "2025-03-23T03:17:57.493641Z",
     "iopub.status.idle": "2025-03-23T03:17:57.608003Z",
     "shell.execute_reply": "2025-03-23T03:17:57.607301Z"
    },
    "papermill": {
     "duration": 0.123051,
     "end_time": "2025-03-23T03:17:57.609612",
     "exception": false,
     "start_time": "2025-03-23T03:17:57.486561",
     "status": "completed"
    },
    "tags": []
   },
   "outputs": [],
   "source": [
    "X_train, X_test, y_train, y_test = train_test_split(X, y, test_size=0.2, random_state=42)"
   ]
  },
  {
   "cell_type": "code",
   "execution_count": 17,
   "id": "d2e73ad3",
   "metadata": {
    "execution": {
     "iopub.execute_input": "2025-03-23T03:17:57.621560Z",
     "iopub.status.busy": "2025-03-23T03:17:57.621271Z",
     "iopub.status.idle": "2025-03-23T03:17:57.624354Z",
     "shell.execute_reply": "2025-03-23T03:17:57.623795Z"
    },
    "papermill": {
     "duration": 0.010074,
     "end_time": "2025-03-23T03:17:57.625438",
     "exception": false,
     "start_time": "2025-03-23T03:17:57.615364",
     "status": "completed"
    },
    "tags": []
   },
   "outputs": [],
   "source": [
    "early_stop = EarlyStopping(\n",
    "    monitor='val_loss',        \n",
    "    patience=10,               \n",
    "    restore_best_weights=True  \n",
    ")"
   ]
  },
  {
   "cell_type": "code",
   "execution_count": 18,
   "id": "d5776143",
   "metadata": {
    "execution": {
     "iopub.execute_input": "2025-03-23T03:17:57.636579Z",
     "iopub.status.busy": "2025-03-23T03:17:57.636335Z",
     "iopub.status.idle": "2025-03-23T03:17:59.782574Z",
     "shell.execute_reply": "2025-03-23T03:17:59.781819Z"
    },
    "papermill": {
     "duration": 2.153374,
     "end_time": "2025-03-23T03:17:59.784118",
     "exception": false,
     "start_time": "2025-03-23T03:17:57.630744",
     "status": "completed"
    },
    "tags": []
   },
   "outputs": [
    {
     "name": "stderr",
     "output_type": "stream",
     "text": [
      "/usr/local/lib/python3.10/dist-packages/keras/src/layers/core/dense.py:87: UserWarning: Do not pass an `input_shape`/`input_dim` argument to a layer. When using Sequential models, prefer using an `Input(shape)` object as the first layer in the model instead.\n",
      "  super().__init__(activity_regularizer=activity_regularizer, **kwargs)\n"
     ]
    }
   ],
   "source": [
    "model = Sequential([\n",
    "              (Dense(512, input_dim=X_train.shape[1], activation='relu')),\n",
    "              (BatchNormalization()),\n",
    "              (Dense(128, activation='relu')),\n",
    "              (BatchNormalization()),\n",
    "              (Dense(128, activation='relu')),\n",
    "              (BatchNormalization()),\n",
    "              (Dense(32, activation='relu')),\n",
    "              (BatchNormalization()),\n",
    "              (Dense(16, activation='relu')),\n",
    "              (BatchNormalization()),\n",
    "              (Dense(16, activation='relu')),\n",
    "              (BatchNormalization()),\n",
    "              (Dense(5, activation='softmax'))\n",
    "              ])"
   ]
  },
  {
   "cell_type": "code",
   "execution_count": 19,
   "id": "a4cb840c",
   "metadata": {
    "execution": {
     "iopub.execute_input": "2025-03-23T03:17:59.795819Z",
     "iopub.status.busy": "2025-03-23T03:17:59.795562Z",
     "iopub.status.idle": "2025-03-23T03:17:59.815009Z",
     "shell.execute_reply": "2025-03-23T03:17:59.814213Z"
    },
    "papermill": {
     "duration": 0.026646,
     "end_time": "2025-03-23T03:17:59.816368",
     "exception": false,
     "start_time": "2025-03-23T03:17:59.789722",
     "status": "completed"
    },
    "tags": []
   },
   "outputs": [
    {
     "data": {
      "text/html": [
       "<pre style=\"white-space:pre;overflow-x:auto;line-height:normal;font-family:Menlo,'DejaVu Sans Mono',consolas,'Courier New',monospace\"><span style=\"font-weight: bold\">Model: \"sequential\"</span>\n",
       "</pre>\n"
      ],
      "text/plain": [
       "\u001b[1mModel: \"sequential\"\u001b[0m\n"
      ]
     },
     "metadata": {},
     "output_type": "display_data"
    },
    {
     "data": {
      "text/html": [
       "<pre style=\"white-space:pre;overflow-x:auto;line-height:normal;font-family:Menlo,'DejaVu Sans Mono',consolas,'Courier New',monospace\">┏━━━━━━━━━━━━━━━━━━━━━━━━━━━━━━━━━━━━━━┳━━━━━━━━━━━━━━━━━━━━━━━━━━━━━┳━━━━━━━━━━━━━━━━━┓\n",
       "┃<span style=\"font-weight: bold\"> Layer (type)                         </span>┃<span style=\"font-weight: bold\"> Output Shape                </span>┃<span style=\"font-weight: bold\">         Param # </span>┃\n",
       "┡━━━━━━━━━━━━━━━━━━━━━━━━━━━━━━━━━━━━━━╇━━━━━━━━━━━━━━━━━━━━━━━━━━━━━╇━━━━━━━━━━━━━━━━━┩\n",
       "│ dense (<span style=\"color: #0087ff; text-decoration-color: #0087ff\">Dense</span>)                        │ (<span style=\"color: #00d7ff; text-decoration-color: #00d7ff\">None</span>, <span style=\"color: #00af00; text-decoration-color: #00af00\">512</span>)                 │          <span style=\"color: #00af00; text-decoration-color: #00af00\">96,256</span> │\n",
       "├──────────────────────────────────────┼─────────────────────────────┼─────────────────┤\n",
       "│ batch_normalization                  │ (<span style=\"color: #00d7ff; text-decoration-color: #00d7ff\">None</span>, <span style=\"color: #00af00; text-decoration-color: #00af00\">512</span>)                 │           <span style=\"color: #00af00; text-decoration-color: #00af00\">2,048</span> │\n",
       "│ (<span style=\"color: #0087ff; text-decoration-color: #0087ff\">BatchNormalization</span>)                 │                             │                 │\n",
       "├──────────────────────────────────────┼─────────────────────────────┼─────────────────┤\n",
       "│ dense_1 (<span style=\"color: #0087ff; text-decoration-color: #0087ff\">Dense</span>)                      │ (<span style=\"color: #00d7ff; text-decoration-color: #00d7ff\">None</span>, <span style=\"color: #00af00; text-decoration-color: #00af00\">128</span>)                 │          <span style=\"color: #00af00; text-decoration-color: #00af00\">65,664</span> │\n",
       "├──────────────────────────────────────┼─────────────────────────────┼─────────────────┤\n",
       "│ batch_normalization_1                │ (<span style=\"color: #00d7ff; text-decoration-color: #00d7ff\">None</span>, <span style=\"color: #00af00; text-decoration-color: #00af00\">128</span>)                 │             <span style=\"color: #00af00; text-decoration-color: #00af00\">512</span> │\n",
       "│ (<span style=\"color: #0087ff; text-decoration-color: #0087ff\">BatchNormalization</span>)                 │                             │                 │\n",
       "├──────────────────────────────────────┼─────────────────────────────┼─────────────────┤\n",
       "│ dense_2 (<span style=\"color: #0087ff; text-decoration-color: #0087ff\">Dense</span>)                      │ (<span style=\"color: #00d7ff; text-decoration-color: #00d7ff\">None</span>, <span style=\"color: #00af00; text-decoration-color: #00af00\">128</span>)                 │          <span style=\"color: #00af00; text-decoration-color: #00af00\">16,512</span> │\n",
       "├──────────────────────────────────────┼─────────────────────────────┼─────────────────┤\n",
       "│ batch_normalization_2                │ (<span style=\"color: #00d7ff; text-decoration-color: #00d7ff\">None</span>, <span style=\"color: #00af00; text-decoration-color: #00af00\">128</span>)                 │             <span style=\"color: #00af00; text-decoration-color: #00af00\">512</span> │\n",
       "│ (<span style=\"color: #0087ff; text-decoration-color: #0087ff\">BatchNormalization</span>)                 │                             │                 │\n",
       "├──────────────────────────────────────┼─────────────────────────────┼─────────────────┤\n",
       "│ dense_3 (<span style=\"color: #0087ff; text-decoration-color: #0087ff\">Dense</span>)                      │ (<span style=\"color: #00d7ff; text-decoration-color: #00d7ff\">None</span>, <span style=\"color: #00af00; text-decoration-color: #00af00\">32</span>)                  │           <span style=\"color: #00af00; text-decoration-color: #00af00\">4,128</span> │\n",
       "├──────────────────────────────────────┼─────────────────────────────┼─────────────────┤\n",
       "│ batch_normalization_3                │ (<span style=\"color: #00d7ff; text-decoration-color: #00d7ff\">None</span>, <span style=\"color: #00af00; text-decoration-color: #00af00\">32</span>)                  │             <span style=\"color: #00af00; text-decoration-color: #00af00\">128</span> │\n",
       "│ (<span style=\"color: #0087ff; text-decoration-color: #0087ff\">BatchNormalization</span>)                 │                             │                 │\n",
       "├──────────────────────────────────────┼─────────────────────────────┼─────────────────┤\n",
       "│ dense_4 (<span style=\"color: #0087ff; text-decoration-color: #0087ff\">Dense</span>)                      │ (<span style=\"color: #00d7ff; text-decoration-color: #00d7ff\">None</span>, <span style=\"color: #00af00; text-decoration-color: #00af00\">16</span>)                  │             <span style=\"color: #00af00; text-decoration-color: #00af00\">528</span> │\n",
       "├──────────────────────────────────────┼─────────────────────────────┼─────────────────┤\n",
       "│ batch_normalization_4                │ (<span style=\"color: #00d7ff; text-decoration-color: #00d7ff\">None</span>, <span style=\"color: #00af00; text-decoration-color: #00af00\">16</span>)                  │              <span style=\"color: #00af00; text-decoration-color: #00af00\">64</span> │\n",
       "│ (<span style=\"color: #0087ff; text-decoration-color: #0087ff\">BatchNormalization</span>)                 │                             │                 │\n",
       "├──────────────────────────────────────┼─────────────────────────────┼─────────────────┤\n",
       "│ dense_5 (<span style=\"color: #0087ff; text-decoration-color: #0087ff\">Dense</span>)                      │ (<span style=\"color: #00d7ff; text-decoration-color: #00d7ff\">None</span>, <span style=\"color: #00af00; text-decoration-color: #00af00\">16</span>)                  │             <span style=\"color: #00af00; text-decoration-color: #00af00\">272</span> │\n",
       "├──────────────────────────────────────┼─────────────────────────────┼─────────────────┤\n",
       "│ batch_normalization_5                │ (<span style=\"color: #00d7ff; text-decoration-color: #00d7ff\">None</span>, <span style=\"color: #00af00; text-decoration-color: #00af00\">16</span>)                  │              <span style=\"color: #00af00; text-decoration-color: #00af00\">64</span> │\n",
       "│ (<span style=\"color: #0087ff; text-decoration-color: #0087ff\">BatchNormalization</span>)                 │                             │                 │\n",
       "├──────────────────────────────────────┼─────────────────────────────┼─────────────────┤\n",
       "│ dense_6 (<span style=\"color: #0087ff; text-decoration-color: #0087ff\">Dense</span>)                      │ (<span style=\"color: #00d7ff; text-decoration-color: #00d7ff\">None</span>, <span style=\"color: #00af00; text-decoration-color: #00af00\">5</span>)                   │              <span style=\"color: #00af00; text-decoration-color: #00af00\">85</span> │\n",
       "└──────────────────────────────────────┴─────────────────────────────┴─────────────────┘\n",
       "</pre>\n"
      ],
      "text/plain": [
       "┏━━━━━━━━━━━━━━━━━━━━━━━━━━━━━━━━━━━━━━┳━━━━━━━━━━━━━━━━━━━━━━━━━━━━━┳━━━━━━━━━━━━━━━━━┓\n",
       "┃\u001b[1m \u001b[0m\u001b[1mLayer (type)                        \u001b[0m\u001b[1m \u001b[0m┃\u001b[1m \u001b[0m\u001b[1mOutput Shape               \u001b[0m\u001b[1m \u001b[0m┃\u001b[1m \u001b[0m\u001b[1m        Param #\u001b[0m\u001b[1m \u001b[0m┃\n",
       "┡━━━━━━━━━━━━━━━━━━━━━━━━━━━━━━━━━━━━━━╇━━━━━━━━━━━━━━━━━━━━━━━━━━━━━╇━━━━━━━━━━━━━━━━━┩\n",
       "│ dense (\u001b[38;5;33mDense\u001b[0m)                        │ (\u001b[38;5;45mNone\u001b[0m, \u001b[38;5;34m512\u001b[0m)                 │          \u001b[38;5;34m96,256\u001b[0m │\n",
       "├──────────────────────────────────────┼─────────────────────────────┼─────────────────┤\n",
       "│ batch_normalization                  │ (\u001b[38;5;45mNone\u001b[0m, \u001b[38;5;34m512\u001b[0m)                 │           \u001b[38;5;34m2,048\u001b[0m │\n",
       "│ (\u001b[38;5;33mBatchNormalization\u001b[0m)                 │                             │                 │\n",
       "├──────────────────────────────────────┼─────────────────────────────┼─────────────────┤\n",
       "│ dense_1 (\u001b[38;5;33mDense\u001b[0m)                      │ (\u001b[38;5;45mNone\u001b[0m, \u001b[38;5;34m128\u001b[0m)                 │          \u001b[38;5;34m65,664\u001b[0m │\n",
       "├──────────────────────────────────────┼─────────────────────────────┼─────────────────┤\n",
       "│ batch_normalization_1                │ (\u001b[38;5;45mNone\u001b[0m, \u001b[38;5;34m128\u001b[0m)                 │             \u001b[38;5;34m512\u001b[0m │\n",
       "│ (\u001b[38;5;33mBatchNormalization\u001b[0m)                 │                             │                 │\n",
       "├──────────────────────────────────────┼─────────────────────────────┼─────────────────┤\n",
       "│ dense_2 (\u001b[38;5;33mDense\u001b[0m)                      │ (\u001b[38;5;45mNone\u001b[0m, \u001b[38;5;34m128\u001b[0m)                 │          \u001b[38;5;34m16,512\u001b[0m │\n",
       "├──────────────────────────────────────┼─────────────────────────────┼─────────────────┤\n",
       "│ batch_normalization_2                │ (\u001b[38;5;45mNone\u001b[0m, \u001b[38;5;34m128\u001b[0m)                 │             \u001b[38;5;34m512\u001b[0m │\n",
       "│ (\u001b[38;5;33mBatchNormalization\u001b[0m)                 │                             │                 │\n",
       "├──────────────────────────────────────┼─────────────────────────────┼─────────────────┤\n",
       "│ dense_3 (\u001b[38;5;33mDense\u001b[0m)                      │ (\u001b[38;5;45mNone\u001b[0m, \u001b[38;5;34m32\u001b[0m)                  │           \u001b[38;5;34m4,128\u001b[0m │\n",
       "├──────────────────────────────────────┼─────────────────────────────┼─────────────────┤\n",
       "│ batch_normalization_3                │ (\u001b[38;5;45mNone\u001b[0m, \u001b[38;5;34m32\u001b[0m)                  │             \u001b[38;5;34m128\u001b[0m │\n",
       "│ (\u001b[38;5;33mBatchNormalization\u001b[0m)                 │                             │                 │\n",
       "├──────────────────────────────────────┼─────────────────────────────┼─────────────────┤\n",
       "│ dense_4 (\u001b[38;5;33mDense\u001b[0m)                      │ (\u001b[38;5;45mNone\u001b[0m, \u001b[38;5;34m16\u001b[0m)                  │             \u001b[38;5;34m528\u001b[0m │\n",
       "├──────────────────────────────────────┼─────────────────────────────┼─────────────────┤\n",
       "│ batch_normalization_4                │ (\u001b[38;5;45mNone\u001b[0m, \u001b[38;5;34m16\u001b[0m)                  │              \u001b[38;5;34m64\u001b[0m │\n",
       "│ (\u001b[38;5;33mBatchNormalization\u001b[0m)                 │                             │                 │\n",
       "├──────────────────────────────────────┼─────────────────────────────┼─────────────────┤\n",
       "│ dense_5 (\u001b[38;5;33mDense\u001b[0m)                      │ (\u001b[38;5;45mNone\u001b[0m, \u001b[38;5;34m16\u001b[0m)                  │             \u001b[38;5;34m272\u001b[0m │\n",
       "├──────────────────────────────────────┼─────────────────────────────┼─────────────────┤\n",
       "│ batch_normalization_5                │ (\u001b[38;5;45mNone\u001b[0m, \u001b[38;5;34m16\u001b[0m)                  │              \u001b[38;5;34m64\u001b[0m │\n",
       "│ (\u001b[38;5;33mBatchNormalization\u001b[0m)                 │                             │                 │\n",
       "├──────────────────────────────────────┼─────────────────────────────┼─────────────────┤\n",
       "│ dense_6 (\u001b[38;5;33mDense\u001b[0m)                      │ (\u001b[38;5;45mNone\u001b[0m, \u001b[38;5;34m5\u001b[0m)                   │              \u001b[38;5;34m85\u001b[0m │\n",
       "└──────────────────────────────────────┴─────────────────────────────┴─────────────────┘\n"
      ]
     },
     "metadata": {},
     "output_type": "display_data"
    },
    {
     "data": {
      "text/html": [
       "<pre style=\"white-space:pre;overflow-x:auto;line-height:normal;font-family:Menlo,'DejaVu Sans Mono',consolas,'Courier New',monospace\"><span style=\"font-weight: bold\"> Total params: </span><span style=\"color: #00af00; text-decoration-color: #00af00\">186,773</span> (729.58 KB)\n",
       "</pre>\n"
      ],
      "text/plain": [
       "\u001b[1m Total params: \u001b[0m\u001b[38;5;34m186,773\u001b[0m (729.58 KB)\n"
      ]
     },
     "metadata": {},
     "output_type": "display_data"
    },
    {
     "data": {
      "text/html": [
       "<pre style=\"white-space:pre;overflow-x:auto;line-height:normal;font-family:Menlo,'DejaVu Sans Mono',consolas,'Courier New',monospace\"><span style=\"font-weight: bold\"> Trainable params: </span><span style=\"color: #00af00; text-decoration-color: #00af00\">185,109</span> (723.08 KB)\n",
       "</pre>\n"
      ],
      "text/plain": [
       "\u001b[1m Trainable params: \u001b[0m\u001b[38;5;34m185,109\u001b[0m (723.08 KB)\n"
      ]
     },
     "metadata": {},
     "output_type": "display_data"
    },
    {
     "data": {
      "text/html": [
       "<pre style=\"white-space:pre;overflow-x:auto;line-height:normal;font-family:Menlo,'DejaVu Sans Mono',consolas,'Courier New',monospace\"><span style=\"font-weight: bold\"> Non-trainable params: </span><span style=\"color: #00af00; text-decoration-color: #00af00\">1,664</span> (6.50 KB)\n",
       "</pre>\n"
      ],
      "text/plain": [
       "\u001b[1m Non-trainable params: \u001b[0m\u001b[38;5;34m1,664\u001b[0m (6.50 KB)\n"
      ]
     },
     "metadata": {},
     "output_type": "display_data"
    }
   ],
   "source": [
    "model.summary()"
   ]
  },
  {
   "cell_type": "code",
   "execution_count": 20,
   "id": "76816912",
   "metadata": {
    "execution": {
     "iopub.execute_input": "2025-03-23T03:17:59.829309Z",
     "iopub.status.busy": "2025-03-23T03:17:59.829081Z",
     "iopub.status.idle": "2025-03-23T03:17:59.839321Z",
     "shell.execute_reply": "2025-03-23T03:17:59.838572Z"
    },
    "papermill": {
     "duration": 0.017858,
     "end_time": "2025-03-23T03:17:59.840587",
     "exception": false,
     "start_time": "2025-03-23T03:17:59.822729",
     "status": "completed"
    },
    "tags": []
   },
   "outputs": [],
   "source": [
    "model.compile(optimizer='adam', loss='sparse_categorical_crossentropy', metrics=['accuracy'])"
   ]
  },
  {
   "cell_type": "code",
   "execution_count": 21,
   "id": "984552e3",
   "metadata": {
    "execution": {
     "iopub.execute_input": "2025-03-23T03:17:59.853721Z",
     "iopub.status.busy": "2025-03-23T03:17:59.853409Z",
     "iopub.status.idle": "2025-03-23T03:20:43.193471Z",
     "shell.execute_reply": "2025-03-23T03:20:43.192805Z"
    },
    "papermill": {
     "duration": 163.348409,
     "end_time": "2025-03-23T03:20:43.194834",
     "exception": false,
     "start_time": "2025-03-23T03:17:59.846425",
     "status": "completed"
    },
    "tags": []
   },
   "outputs": [
    {
     "name": "stdout",
     "output_type": "stream",
     "text": [
      "Epoch 1/100\n",
      "\u001b[1m2189/2189\u001b[0m \u001b[32m━━━━━━━━━━━━━━━━━━━━\u001b[0m\u001b[37m\u001b[0m \u001b[1m14s\u001b[0m 4ms/step - accuracy: 0.8634 - loss: 0.5400 - val_accuracy: 0.9545 - val_loss: 0.1639\n",
      "Epoch 2/100\n",
      "\u001b[1m2189/2189\u001b[0m \u001b[32m━━━━━━━━━━━━━━━━━━━━\u001b[0m\u001b[37m\u001b[0m \u001b[1m5s\u001b[0m 2ms/step - accuracy: 0.9488 - loss: 0.1810 - val_accuracy: 0.9596 - val_loss: 0.1377\n",
      "Epoch 3/100\n",
      "\u001b[1m2189/2189\u001b[0m \u001b[32m━━━━━━━━━━━━━━━━━━━━\u001b[0m\u001b[37m\u001b[0m \u001b[1m5s\u001b[0m 2ms/step - accuracy: 0.9557 - loss: 0.1530 - val_accuracy: 0.9652 - val_loss: 0.1187\n",
      "Epoch 4/100\n",
      "\u001b[1m2189/2189\u001b[0m \u001b[32m━━━━━━━━━━━━━━━━━━━━\u001b[0m\u001b[37m\u001b[0m \u001b[1m5s\u001b[0m 2ms/step - accuracy: 0.9633 - loss: 0.1319 - val_accuracy: 0.9701 - val_loss: 0.1062\n",
      "Epoch 5/100\n",
      "\u001b[1m2189/2189\u001b[0m \u001b[32m━━━━━━━━━━━━━━━━━━━━\u001b[0m\u001b[37m\u001b[0m \u001b[1m5s\u001b[0m 2ms/step - accuracy: 0.9659 - loss: 0.1202 - val_accuracy: 0.9689 - val_loss: 0.1078\n",
      "Epoch 6/100\n",
      "\u001b[1m2189/2189\u001b[0m \u001b[32m━━━━━━━━━━━━━━━━━━━━\u001b[0m\u001b[37m\u001b[0m \u001b[1m5s\u001b[0m 2ms/step - accuracy: 0.9700 - loss: 0.1070 - val_accuracy: 0.9749 - val_loss: 0.0886\n",
      "Epoch 7/100\n",
      "\u001b[1m2189/2189\u001b[0m \u001b[32m━━━━━━━━━━━━━━━━━━━━\u001b[0m\u001b[37m\u001b[0m \u001b[1m5s\u001b[0m 2ms/step - accuracy: 0.9715 - loss: 0.0991 - val_accuracy: 0.9749 - val_loss: 0.0920\n",
      "Epoch 8/100\n",
      "\u001b[1m2189/2189\u001b[0m \u001b[32m━━━━━━━━━━━━━━━━━━━━\u001b[0m\u001b[37m\u001b[0m \u001b[1m5s\u001b[0m 2ms/step - accuracy: 0.9734 - loss: 0.0931 - val_accuracy: 0.9712 - val_loss: 0.0976\n",
      "Epoch 9/100\n",
      "\u001b[1m2189/2189\u001b[0m \u001b[32m━━━━━━━━━━━━━━━━━━━━\u001b[0m\u001b[37m\u001b[0m \u001b[1m5s\u001b[0m 2ms/step - accuracy: 0.9733 - loss: 0.0909 - val_accuracy: 0.9753 - val_loss: 0.0808\n",
      "Epoch 10/100\n",
      "\u001b[1m2189/2189\u001b[0m \u001b[32m━━━━━━━━━━━━━━━━━━━━\u001b[0m\u001b[37m\u001b[0m \u001b[1m5s\u001b[0m 2ms/step - accuracy: 0.9765 - loss: 0.0814 - val_accuracy: 0.9780 - val_loss: 0.0788\n",
      "Epoch 11/100\n",
      "\u001b[1m2189/2189\u001b[0m \u001b[32m━━━━━━━━━━━━━━━━━━━━\u001b[0m\u001b[37m\u001b[0m \u001b[1m5s\u001b[0m 2ms/step - accuracy: 0.9751 - loss: 0.0822 - val_accuracy: 0.9768 - val_loss: 0.0833\n",
      "Epoch 12/100\n",
      "\u001b[1m2189/2189\u001b[0m \u001b[32m━━━━━━━━━━━━━━━━━━━━\u001b[0m\u001b[37m\u001b[0m \u001b[1m5s\u001b[0m 2ms/step - accuracy: 0.9773 - loss: 0.0766 - val_accuracy: 0.9765 - val_loss: 0.0874\n",
      "Epoch 13/100\n",
      "\u001b[1m2189/2189\u001b[0m \u001b[32m━━━━━━━━━━━━━━━━━━━━\u001b[0m\u001b[37m\u001b[0m \u001b[1m5s\u001b[0m 2ms/step - accuracy: 0.9783 - loss: 0.0755 - val_accuracy: 0.9784 - val_loss: 0.0775\n",
      "Epoch 14/100\n",
      "\u001b[1m2189/2189\u001b[0m \u001b[32m━━━━━━━━━━━━━━━━━━━━\u001b[0m\u001b[37m\u001b[0m \u001b[1m5s\u001b[0m 2ms/step - accuracy: 0.9794 - loss: 0.0692 - val_accuracy: 0.9764 - val_loss: 0.0844\n",
      "Epoch 15/100\n",
      "\u001b[1m2189/2189\u001b[0m \u001b[32m━━━━━━━━━━━━━━━━━━━━\u001b[0m\u001b[37m\u001b[0m \u001b[1m5s\u001b[0m 2ms/step - accuracy: 0.9797 - loss: 0.0693 - val_accuracy: 0.9812 - val_loss: 0.0659\n",
      "Epoch 16/100\n",
      "\u001b[1m2189/2189\u001b[0m \u001b[32m━━━━━━━━━━━━━━━━━━━━\u001b[0m\u001b[37m\u001b[0m \u001b[1m5s\u001b[0m 2ms/step - accuracy: 0.9792 - loss: 0.0680 - val_accuracy: 0.9781 - val_loss: 0.0759\n",
      "Epoch 17/100\n",
      "\u001b[1m2189/2189\u001b[0m \u001b[32m━━━━━━━━━━━━━━━━━━━━\u001b[0m\u001b[37m\u001b[0m \u001b[1m5s\u001b[0m 2ms/step - accuracy: 0.9796 - loss: 0.0677 - val_accuracy: 0.9799 - val_loss: 0.0726\n",
      "Epoch 18/100\n",
      "\u001b[1m2189/2189\u001b[0m \u001b[32m━━━━━━━━━━━━━━━━━━━━\u001b[0m\u001b[37m\u001b[0m \u001b[1m5s\u001b[0m 2ms/step - accuracy: 0.9812 - loss: 0.0611 - val_accuracy: 0.9812 - val_loss: 0.0676\n",
      "Epoch 19/100\n",
      "\u001b[1m2189/2189\u001b[0m \u001b[32m━━━━━━━━━━━━━━━━━━━━\u001b[0m\u001b[37m\u001b[0m \u001b[1m5s\u001b[0m 2ms/step - accuracy: 0.9807 - loss: 0.0622 - val_accuracy: 0.9799 - val_loss: 0.0712\n",
      "Epoch 20/100\n",
      "\u001b[1m2189/2189\u001b[0m \u001b[32m━━━━━━━━━━━━━━━━━━━━\u001b[0m\u001b[37m\u001b[0m \u001b[1m5s\u001b[0m 2ms/step - accuracy: 0.9818 - loss: 0.0576 - val_accuracy: 0.9816 - val_loss: 0.0667\n",
      "Epoch 21/100\n",
      "\u001b[1m2189/2189\u001b[0m \u001b[32m━━━━━━━━━━━━━━━━━━━━\u001b[0m\u001b[37m\u001b[0m \u001b[1m5s\u001b[0m 2ms/step - accuracy: 0.9831 - loss: 0.0552 - val_accuracy: 0.9812 - val_loss: 0.0646\n",
      "Epoch 22/100\n",
      "\u001b[1m2189/2189\u001b[0m \u001b[32m━━━━━━━━━━━━━━━━━━━━\u001b[0m\u001b[37m\u001b[0m \u001b[1m5s\u001b[0m 2ms/step - accuracy: 0.9840 - loss: 0.0515 - val_accuracy: 0.9791 - val_loss: 0.0715\n",
      "Epoch 23/100\n",
      "\u001b[1m2189/2189\u001b[0m \u001b[32m━━━━━━━━━━━━━━━━━━━━\u001b[0m\u001b[37m\u001b[0m \u001b[1m5s\u001b[0m 2ms/step - accuracy: 0.9837 - loss: 0.0517 - val_accuracy: 0.9812 - val_loss: 0.0733\n",
      "Epoch 24/100\n",
      "\u001b[1m2189/2189\u001b[0m \u001b[32m━━━━━━━━━━━━━━━━━━━━\u001b[0m\u001b[37m\u001b[0m \u001b[1m5s\u001b[0m 2ms/step - accuracy: 0.9851 - loss: 0.0499 - val_accuracy: 0.9813 - val_loss: 0.0691\n",
      "Epoch 25/100\n",
      "\u001b[1m2189/2189\u001b[0m \u001b[32m━━━━━━━━━━━━━━━━━━━━\u001b[0m\u001b[37m\u001b[0m \u001b[1m5s\u001b[0m 2ms/step - accuracy: 0.9844 - loss: 0.0494 - val_accuracy: 0.9803 - val_loss: 0.0703\n",
      "Epoch 26/100\n",
      "\u001b[1m2189/2189\u001b[0m \u001b[32m━━━━━━━━━━━━━━━━━━━━\u001b[0m\u001b[37m\u001b[0m \u001b[1m5s\u001b[0m 2ms/step - accuracy: 0.9855 - loss: 0.0472 - val_accuracy: 0.9789 - val_loss: 0.0794\n",
      "Epoch 27/100\n",
      "\u001b[1m2189/2189\u001b[0m \u001b[32m━━━━━━━━━━━━━━━━━━━━\u001b[0m\u001b[37m\u001b[0m \u001b[1m5s\u001b[0m 2ms/step - accuracy: 0.9854 - loss: 0.0480 - val_accuracy: 0.9814 - val_loss: 0.0733\n",
      "Epoch 28/100\n",
      "\u001b[1m2189/2189\u001b[0m \u001b[32m━━━━━━━━━━━━━━━━━━━━\u001b[0m\u001b[37m\u001b[0m \u001b[1m5s\u001b[0m 2ms/step - accuracy: 0.9853 - loss: 0.0470 - val_accuracy: 0.9802 - val_loss: 0.0783\n",
      "Epoch 29/100\n",
      "\u001b[1m2189/2189\u001b[0m \u001b[32m━━━━━━━━━━━━━━━━━━━━\u001b[0m\u001b[37m\u001b[0m \u001b[1m5s\u001b[0m 2ms/step - accuracy: 0.9849 - loss: 0.0490 - val_accuracy: 0.9766 - val_loss: 0.0889\n",
      "Epoch 30/100\n",
      "\u001b[1m2189/2189\u001b[0m \u001b[32m━━━━━━━━━━━━━━━━━━━━\u001b[0m\u001b[37m\u001b[0m \u001b[1m5s\u001b[0m 2ms/step - accuracy: 0.9856 - loss: 0.0487 - val_accuracy: 0.9783 - val_loss: 0.0760\n",
      "Epoch 31/100\n",
      "\u001b[1m2189/2189\u001b[0m \u001b[32m━━━━━━━━━━━━━━━━━━━━\u001b[0m\u001b[37m\u001b[0m \u001b[1m5s\u001b[0m 2ms/step - accuracy: 0.9859 - loss: 0.0438 - val_accuracy: 0.9793 - val_loss: 0.0730\n"
     ]
    }
   ],
   "source": [
    "history = model.fit(\n",
    "    X_train, \n",
    "    y_train, \n",
    "    epochs=100, \n",
    "    batch_size=32, \n",
    "    validation_data=(X_test, y_test),  \n",
    "    verbose=1, \n",
    "    callbacks=[early_stop] \n",
    ")"
   ]
  },
  {
   "cell_type": "code",
   "execution_count": 22,
   "id": "ef1679b3",
   "metadata": {
    "execution": {
     "iopub.execute_input": "2025-03-23T03:20:43.494170Z",
     "iopub.status.busy": "2025-03-23T03:20:43.493868Z",
     "iopub.status.idle": "2025-03-23T03:20:45.219120Z",
     "shell.execute_reply": "2025-03-23T03:20:45.218226Z"
    },
    "papermill": {
     "duration": 1.858738,
     "end_time": "2025-03-23T03:20:45.220490",
     "exception": false,
     "start_time": "2025-03-23T03:20:43.361752",
     "status": "completed"
    },
    "tags": []
   },
   "outputs": [
    {
     "name": "stdout",
     "output_type": "stream",
     "text": [
      "\u001b[1m548/548\u001b[0m \u001b[32m━━━━━━━━━━━━━━━━━━━━\u001b[0m\u001b[37m\u001b[0m \u001b[1m1s\u001b[0m 2ms/step\n",
      "Classification Report on Test Data:\n",
      "              precision    recall  f1-score   support\n",
      "\n",
      "     Class 0       0.99      0.99      0.99     14579\n",
      "     Class 1       0.88      0.75      0.81       426\n",
      "     Class 2       0.93      0.94      0.93      1112\n",
      "     Class 3       0.87      0.74      0.80       145\n",
      "     Class 4       0.99      0.98      0.99      1249\n",
      "\n",
      "    accuracy                           0.98     17511\n",
      "   macro avg       0.93      0.88      0.90     17511\n",
      "weighted avg       0.98      0.98      0.98     17511\n",
      "\n"
     ]
    }
   ],
   "source": [
    "y_pred = model.predict(X_test)\n",
    "\n",
    "y_pred_classes = np.argmax(y_pred, axis=1)\n",
    "\n",
    "y_true_classes = y_test  \n",
    "\n",
    "report = classification_report(y_true_classes, y_pred_classes, target_names=['Class 0', 'Class 1', 'Class 2', 'Class 3', 'Class 4'])\n",
    "\n",
    "print(\"Classification Report on Test Data:\")\n",
    "print(report)"
   ]
  },
  {
   "cell_type": "code",
   "execution_count": null,
   "id": "3ff099a2",
   "metadata": {
    "papermill": {
     "duration": 0.126486,
     "end_time": "2025-03-23T03:20:45.478563",
     "exception": false,
     "start_time": "2025-03-23T03:20:45.352077",
     "status": "completed"
    },
    "tags": []
   },
   "outputs": [],
   "source": []
  }
 ],
 "metadata": {
  "kaggle": {
   "accelerator": "gpu",
   "dataSources": [
    {
     "datasetId": 29414,
     "sourceId": 37484,
     "sourceType": "datasetVersion"
    }
   ],
   "dockerImageVersionId": 30919,
   "isGpuEnabled": true,
   "isInternetEnabled": true,
   "language": "python",
   "sourceType": "notebook"
  },
  "kernelspec": {
   "display_name": "Python 3",
   "language": "python",
   "name": "python3"
  },
  "language_info": {
   "codemirror_mode": {
    "name": "ipython",
    "version": 3
   },
   "file_extension": ".py",
   "mimetype": "text/x-python",
   "name": "python",
   "nbconvert_exporter": "python",
   "pygments_lexer": "ipython3",
   "version": "3.10.12"
  },
  "papermill": {
   "default_parameters": {},
   "duration": 199.355102,
   "end_time": "2025-03-23T03:20:47.326870",
   "environment_variables": {},
   "exception": null,
   "input_path": "__notebook__.ipynb",
   "output_path": "__notebook__.ipynb",
   "parameters": {},
   "start_time": "2025-03-23T03:17:27.971768",
   "version": "2.6.0"
  }
 },
 "nbformat": 4,
 "nbformat_minor": 5
}
